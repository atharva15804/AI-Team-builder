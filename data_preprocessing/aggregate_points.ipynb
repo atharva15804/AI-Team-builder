{
 "cells": [
  {
   "cell_type": "code",
   "execution_count": 1,
   "id": "f5933e40-0e89-4920-a7b5-01398b16eedb",
   "metadata": {},
   "outputs": [],
   "source": [
    "import matplotlib.pyplot as plt\n",
    "import numpy as np\n",
    "import pandas as pd\n",
    "from tqdm import tqdm\n",
    "import cricketstats as cks\n",
    "import json"
   ]
  },
  {
   "cell_type": "code",
   "execution_count": 2,
   "id": "a49c0849-ddf6-4a02-aafa-cc5828daf0ee",
   "metadata": {},
   "outputs": [],
   "source": [
    "database =\"../data/raw/all_json.zip\""
   ]
  },
  {
   "cell_type": "code",
   "execution_count": 3,
   "id": "9ae20e9b-2e58-4bc1-9b92-9c6cfe2bb257",
   "metadata": {},
   "outputs": [],
   "source": [
    "def aggregate_points_json(matchtype, from_date, to_date):\n",
    "    search = cks.cricketstats.search(allplayers=True)\n",
    "    # Optional Arguments:\n",
    "    # First we can set overs and innings related arguments:\n",
    "    betweenovers=[] # Search only these overs. eg. betweenovers = [1, 20]. Or if you only want to search for powerplays that are mandatory and option input \"powerplays\" eg. betweenovers =[\"powerplays\"]\n",
    "    innings=[] # Search these innings. Options: 1, 2, 3, 4 eg. innings = [1,3]\n",
    "    fielders=[] # Search bowling stats involves these fielders.\n",
    "    oppositionbatters=[] # Search overs where players have bowled against certain batters. Options: batter names. You can also put in a list of batters by handedness. eg. oppositionbatters=[\"Left hand\", \"Right Hand\"]\n",
    "    oppositionbowlers=[] # Search overs where players have batted against certain bowlers Options: bowler names You can also put in list of bowlers by type, eg. oppositionbowlers=[\"Right arm pace\",\"Left arm pace\",\"Right arm Off break\",\"Right arm Leg break\",\"Left arm orthodox\",\"Left arm wrist spin\"]\n",
    "    superover=None # Search normal innings or superover innings. Options: True, False eg. superover=True\n",
    "    battingposition=[] # Search stats at certain position in batting order. eg. battingposition=[1,2,3]\n",
    "    bowlingposition=[] # Search stats at certain position in bowling order. eg. bowlingposition=[1,2]\n",
    "    \n",
    "    # Second we have match related arguments\n",
    "    sex=[] # Search only matches of certain sex. Options: \"male\", \"female\" eg. sex = [\"female\"] \n",
    "    playerteams=[] # Search matches where players have played in certain teams. Options: team names eg. playerteams=[\"Australia\", \"England\"]\n",
    "    teammates=[] # Search matches where certain teammates play. For this to work playerteams must be populated.\n",
    "    oppositionteams=[] # Search matches where opposition is only certain teams. Options: team names eg. oppositionteams=[\"India\", \"England\"]\n",
    "    venue=[] # Search matches played only at these venues Options: Cricket Grounds eg. venue=[\"Sydney Cricket Ground\", \"Melbourne Cricket Ground\", \"\"Brisbane Cricket Ground, Woolloongabba\"\"]\n",
    "    teamtype=[] # Search only for particualr type of teams. eg. \"international\", \"club\".\n",
    "    event=[] # Search matches played as part of these Leagues or Tournaments Options: Name of League or Tournament eg. event=[\"Sheffield Shield\", \"ICC World Cup\", \"Big Bash League\"] \n",
    "    matchresult=None # Search matches where players or teams have these results. When looking at players, this option **must** be used with at one team in playersteams variable. Options either \"won\" or \"loss\" or \"draw\" or \"tie\" eg. matchresult=\"won\"\n",
    "    sumstats=False # When switched to True, it adds an \"all players\" or \"all teams\" row at end of result that sums all players or teams stats that are searched for.\n",
    "    search.stats(database, from_date, to_date, matchtype, betweenovers=betweenovers, innings=innings, sex=sex, playersteams=playerteams, oppositionbatters=oppositionbatters, oppositionbowlers=oppositionbowlers, oppositionteams=oppositionteams, venue=venue, event=event, matchresult=matchresult, superover=superover, battingposition=battingposition, bowlingposition=bowlingposition, fielders=fielders, sumstats=sumstats)\n",
    "    data_var = \"_\".join(matchtype)+\"_data\" \n",
    "    globals()[data_var] = search.result\n",
    "    column_to_drop = 'Maiden Overs'  # Replace with the column name you want to drop\n",
    "    globals()[data_var] = globals()[data_var].drop(columns=[column_to_drop])\n",
    "    globals()[data_var].fillna(-1, inplace=True)\n",
    "    json_data = globals()[data_var].set_index('Players').to_dict(orient='index')\n",
    "    \n",
    "    # Save the JSON data to a file\n",
    "    json_file_path = f\"../data/processed/{data_var}_aggregate_data.json\"  \n",
    "    with open(json_file_path, 'w') as json_file:\n",
    "        json.dump(json_data, json_file, indent=4)\n",
    "   "
   ]
  },
  {
   "cell_type": "code",
   "execution_count": 4,
   "id": "7c67164f-42c6-4291-8688-f26fe19760ea",
   "metadata": {},
   "outputs": [
    {
     "name": "stderr",
     "output_type": "stream",
     "text": [
      "100%|████████████████████████████████████████████████████████| 25/25 [07:15<00:00, 17.43s/it]\n"
     ]
    }
   ],
   "source": [
    "from_date = (2010, 1, 1) # The (Year, Month, Day) from which to start search\n",
    "to_date = (2024, 6, 30) # The (Year, Month, Day) from which to end search\n",
    "matchtype = [\"T20\"] # Options: [\"Test\", \"MDM\", \"ODI\", \"ODM\", \"T20\", \"IT20\"] Explanation of what these mean is found at https://cricsheet.org/downloads/\n",
    "aggregate_points_json(matchtype,from_date,to_date)"
   ]
  },
  {
   "cell_type": "code",
   "execution_count": 5,
   "id": "bf0b6f0a-42f8-4e8d-8ba7-35594019ebab",
   "metadata": {},
   "outputs": [
    {
     "name": "stderr",
     "output_type": "stream",
     "text": [
      "100%|████████████████████████████████████████████████████████| 25/25 [01:45<00:00,  4.22s/it]\n",
      "100%|████████████████████████████████████████████████████████| 25/25 [02:03<00:00,  4.96s/it]\n"
     ]
    }
   ],
   "source": [
    "from_date = (2010, 1, 1) # The (Year, Month, Day) from which to start search\n",
    "to_date = (2024, 6, 30) # The (Year, Month, Day) from which to end search\n",
    "matchtype = [\"ODI\",\"ODM\"] # Options: [\"Test\", \"MDM\", \"ODI\", \"ODM\", \"T20\", \"IT20\"] Explanation of what these mean is found at https://cricsheet.org/downloads/\n",
    "aggregate_points_json(matchtype,from_date,to_date)"
   ]
  },
  {
   "cell_type": "code",
   "execution_count": 4,
   "id": "30f65573-0328-4b42-8751-290a7223b4ec",
   "metadata": {},
   "outputs": [
    {
     "name": "stderr",
     "output_type": "stream",
     "text": [
      "100%|████████████████████████| 25/25 [02:20<00:00,  5.62s/it]\n",
      "100%|███████████████████████| 25/25 [57:35<00:00, 138.20s/it]\n"
     ]
    }
   ],
   "source": [
    "from_date = (2010, 1, 1) # The (Year, Month, Day) from which to start search\n",
    "to_date = (2024, 6, 30) # The (Year, Month, Day) from which to end search\n",
    "matchtype = [\"Test\",\"MDM\"] # Options: [\"Test\", \"MDM\", \"ODI\", \"ODM\", \"T20\", \"IT20\"] Explanation of what these mean is found at https://cricsheet.org/downloads/\n",
    "aggregate_points_json(matchtype,from_date,to_date)"
   ]
  }
 ],
 "metadata": {
  "kernelspec": {
   "display_name": "Python 3 (ipykernel)",
   "language": "python",
   "name": "python3"
  },
  "language_info": {
   "codemirror_mode": {
    "name": "ipython",
    "version": 3
   },
   "file_extension": ".py",
   "mimetype": "text/x-python",
   "name": "python",
   "nbconvert_exporter": "python",
   "pygments_lexer": "ipython3",
   "version": "3.9.12"
  }
 },
 "nbformat": 4,
 "nbformat_minor": 5
}
